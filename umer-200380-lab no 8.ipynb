{
 "cells": [
  {
   "cell_type": "code",
   "execution_count": null,
   "id": "9123cd86",
   "metadata": {},
   "outputs": [],
   "source": [
    " a=int(input(\"enter the desired amount \"))\n",
    "b=int(input(\"enter the billing amount\"))\n",
    "if(a==b):\n",
    "    print(\"you will get 10$\")\n",
    "elif(a>=0.5*b):\n",
    "    print(\"The penalty will be 5%\")\n",
    "elif(a<=0.5*b and a>=0.2*b):\n",
    "    print(\"The penalty will be 10%\")\n",
    "else:\n",
    "    print(\"The penalty is of 20%\")\n"
   ]
  },
  {
   "cell_type": "code",
   "execution_count": 15,
   "id": "af22f6d9",
   "metadata": {},
   "outputs": [
    {
     "name": "stdout",
     "output_type": "stream",
     "text": [
      "[5, 15, 25, 50]\n"
     ]
    }
   ],
   "source": [
    "List = [5, 20, 15, 20, 25, 50, 20]\n",
    "List.remove(20)\n",
    "List.remove(20)\n",
    "List.remove(20)\n",
    "\n",
    "print(List)"
   ]
  },
  {
   "cell_type": "code",
   "execution_count": 16,
   "id": "09984c62",
   "metadata": {},
   "outputs": [
    {
     "name": "stdout",
     "output_type": "stream",
     "text": [
      "[5, 200, 15, 20, 25, 50, 20]\n"
     ]
    }
   ],
   "source": [
    "List = [5, 20, 15, 20, 25, 50, 20]\n",
    "List[1]=200\n",
    "print(List)"
   ]
  },
  {
   "cell_type": "code",
   "execution_count": 24,
   "id": "89c78117",
   "metadata": {},
   "outputs": [
    {
     "name": "stdout",
     "output_type": "stream",
     "text": [
      "all values are same \n"
     ]
    }
   ],
   "source": [
    "List = (2, 2, 2,2,2,2,2,2)\n",
    "i=len(List)\n",
    "j=0\n",
    "for k in range (0,i,1):\n",
    "    if(List[0]==List[k]):\n",
    "         j=j+1  \n",
    "if(j==len(List)):\n",
    "    print(\"all values are same \")\n",
    "    \n",
    "else:\n",
    "    print(\"values are not same \")"
   ]
  },
  {
   "cell_type": "code",
   "execution_count": 25,
   "id": "616ccc69",
   "metadata": {},
   "outputs": [
    {
     "name": "stdout",
     "output_type": "stream",
     "text": [
      "enter your first namea\n",
      "enter your first nameb\n",
      "enter your second namet\n",
      "enter your first namet\n",
      "enter your second namee\n",
      "enter your first nameg\n",
      "enter your second names\n",
      "enter your first namee\n",
      "enter your first namey\n",
      "enter your first namewy\n",
      "enter your second namewr\n",
      "enter your first namegdg\n",
      "enter your second nameretreg\n",
      "enter your first namere\n",
      "enter your second namegrter\n",
      "enter your first namefe\n",
      "['a', 1, 2, 3, 'b', 't', 6, 7, 't', 9, 'e', 11, 'g', 13, 14, 's', 'e', 17, 18, 19, 'y', 21, 22, 23, 'wy', 'wr', 26, 27, 'gdg', 29, 'retreg', 31, 're', 33, 34, 'grter', 'fe', 37, 38, 39]\n"
     ]
    }
   ],
   "source": [
    "j=[]\n",
    "for x in range (0,40,1):\n",
    "    if(x%4==0):\n",
    "        j.append(input(\"enter your first name\"))\n",
    "            \n",
    "    elif(x%5==0):\n",
    "        j.append(input(\"enter your second name\"))\n",
    "    elif(x%5==0 and x% 4==0):\n",
    "        j.append(input(\"enter your ID\"))\n",
    "    else:\n",
    "        j.append(x)\n",
    "print (j)\n",
    "        "
   ]
  },
  {
   "cell_type": "raw",
   "id": "c22a350b",
   "metadata": {},
   "source": []
  }
 ],
 "metadata": {
  "kernelspec": {
   "display_name": "Python 3 (ipykernel)",
   "language": "python",
   "name": "python3"
  },
  "language_info": {
   "codemirror_mode": {
    "name": "ipython",
    "version": 3
   },
   "file_extension": ".py",
   "mimetype": "text/x-python",
   "name": "python",
   "nbconvert_exporter": "python",
   "pygments_lexer": "ipython3",
   "version": "3.9.7"
  }
 },
 "nbformat": 4,
 "nbformat_minor": 5
}
